{
 "cells": [
  {
   "cell_type": "markdown",
   "metadata": {},
   "source": [
    "These notes are written for Operational Research Course to demostrate how linear programming problem can be mapped into Python programming language. \n",
    "\n",
    "## Python Introduction\n",
    "\n",
    "Python is general purpose programming language. It is interpreted and compiled. It is used for web development, data science, scientific computing, and many other fields.\n",
    "\n",
    "- It is case sensitive.\n",
    "- It is a dynamic language and do not need a type declaration.\n",
    "- It is a high level language and can be used to write programs that are easier to read and write.\n",
    "- Python work on different platforms such as Windows, Linux, Mac, and Raspberry Pi and so on."
   ]
  },
  {
   "cell_type": "code",
   "execution_count": 47,
   "metadata": {},
   "outputs": [
    {
     "name": "stdout",
     "output_type": "stream",
     "text": [
      "Hello, World.\n",
      "Second statement\tThird statement\n"
     ]
    }
   ],
   "source": [
    "print(\"Hello, World.\")\n",
    "print(\"Second statement\", end=\"\\t\")\n",
    "print(\"Third statement\")"
   ]
  },
  {
   "cell_type": "markdown",
   "metadata": {},
   "source": [
    "#### Python Comments\n",
    "Comments can be added to explain the Python, or to make the code more readable. It is also added to add copyright information, function documentation, and so on."
   ]
  },
  {
   "cell_type": "code",
   "execution_count": 3,
   "metadata": {},
   "outputs": [
    {
     "name": "stdout",
     "output_type": "stream",
     "text": [
      "Hello World\n"
     ]
    }
   ],
   "source": [
    "# This is a comment\n",
    "print(\"Hello World\")\n",
    "\n",
    "# Python does not support multiline comments so we can use this way\n",
    "# Another ocmment"
   ]
  },
  {
   "cell_type": "markdown",
   "metadata": {},
   "source": [
    "#### Python Variable\n",
    "Variables are containers/places for storing data values.\n",
    "\n",
    "The general rules for constructing names for variables (unique identifiers) are:\n",
    "\n",
    "- Names can contain letters, digits, and underscores.\n",
    "- Names must begin with a letter\n",
    "- Names can also begin with underscore(_)\n",
    "- Names are case sensitive (y and Y are different variables)\n",
    "- Python has no command for declaring a variable.\n",
    "- String variables can be declared either by using single or double quotes\n",
    "\n",
    "#### Data type in Python\n",
    " - Text Type: `str` \n",
    " - Numeric Types: `int`,  `float`,  `complex`\n",
    " - Sequence Types:`list`,  `tuple`,  `range`\n",
    " - Mapping Type: `dict` \n",
    " - Set Types:    `set`,  `frozenset` \n",
    " - Boolean Type: `bool` \n",
    " - Binary Types: `bytes`,    `bytearray`, `memoryview` \n",
    " - None Type: `None`\n"
   ]
  },
  {
   "cell_type": "code",
   "execution_count": 18,
   "metadata": {},
   "outputs": [
    {
     "name": "stdout",
     "output_type": "stream",
     "text": [
      "AlphaSoftHub <class 'str'> 12\n",
      "False <class 'bool'>\n",
      "12345 <class 'int'>\n",
      "1.2345 <class 'float'>\n",
      "None <class 'NoneType'>\n"
     ]
    }
   ],
   "source": [
    "name = \"AlphaSoftHub\" # String\n",
    "isMultiNational = False # True for true. False for false\n",
    "NTN = 12345 # Integer, python does not support constants but for human readability we can use that way to define a constant\n",
    "capital = 1.2345 # Float\n",
    "none = None # None type.\n",
    "print(name, type(name), len(name))\n",
    "print(isMultiNational, type(isMultiNational))\n",
    "print(NTN, type(NTN))\n",
    "print(capital, type(capital))\n",
    "print(none, type(none))"
   ]
  },
  {
   "cell_type": "markdown",
   "metadata": {},
   "source": [
    "### Python Operators\n",
    "- <b>Arithmetic operators</b>\n",
    "    Arithmetic operators are used to perform arithmetic operations on numbers.\n",
    "    - `+` addition\n",
    "    - `-` substraction\n",
    "    - `*` Multiplication\n",
    "    - `/` Division\n",
    "    - `%` Modulus (Find Reaminder)\n",
    "    - `**` Exponentiation\n",
    "    - `//` Floor division\n",
    "- <b>Assignment operators</b>\n",
    "    Assignment operators assign a value to a variable.\n",
    "    - `=` Assignment\n",
    "    - `+=` Addition assignment\n",
    "    - `-=` Subtraction assignment\n",
    "    - `*=` Multiplication assignment\n",
    "    - `/=` Division assignment\n",
    "    - `%=` Modulus assignment\n",
    "    - `**=` Exponentiation assignment\n",
    "    - `//=` Floor division assignment\n",
    "    - `&=` Bitwise AND assignment\n",
    "    - `|=` Bitwise OR assignment\n",
    "    - `^=` Bitwise XOR assignment\n",
    "    - `<<=` Left shift assignment\n",
    "    - `>>=` Right shift assignment\n",
    "- <b>Comparison operators</b>\n",
    "    Comparison operators compare two values and return a Boolean.\n",
    "    - `==` Equal to\n",
    "    - `!=` Not equal to\n",
    "    - `<` Less than\n",
    "    - `>` Greater than\n",
    "    - `<=` Less than or equal to\n",
    "    - `>=` Greater than or equal to\n",
    "- <b>Logical operators</b>\n",
    "    Logical operators are used to combine conditional statements.\n",
    "    - `and` Logical AND\n",
    "    - `or` Logical OR\n",
    "    - `not` Logical NOT\n",
    "- <b>Identity operators</b>\n",
    "    Identity operators are used to test if two objects are the same object.\n",
    "    - `is` Is (Same as `==`)\n",
    "    - `is not` Is not (Same as `!=`)\n",
    "- <b>Membership operators</b>\n",
    "    Memberhip operators are used to test if a value is present in a sequence.\n",
    "    - `in` Membership (Same as `==`)\n",
    "    - `not in` Not membership (Same as `!=`)\n",
    "- <b>Bitwise operators</b>\n",
    "    Bitwise operators are used to compare the binary representation of two numbers.\n",
    "    - `&` Bitwise AND\n",
    "    - `|` Bitwise OR\n",
    "    - `^` Bitwise XOR\n",
    "    - `~` Bitwise NOT\n",
    "    - `<<` Left shift\n",
    "    - `>>` Right shift"
   ]
  },
  {
   "cell_type": "markdown",
   "metadata": {},
   "source": [
    "#### Python Sequences\n",
    "In Python programming, sequences are a generic term for an ordered set which means that the order in which we input the items will be the same when we access them.\n",
    "\n",
    "- Lists.\n",
    "- Tuple.\n",
    "- Sets.\n",
    "#### List\n",
    "Lists are used to store multiple values of any type in a single variable.\n",
    "- List items are indexed, the first item has index `[0]`, the second item has index `[1]` etc. \n",
    "#### Tuples\n",
    "The only different between list and tuples are they are unchangedable, meaning that we cannot change, add or remove items after the tuple has been created.\n",
    "- Tuples are written with round brackets.\n",
    "- Tuples are immutable.\n",
    "#### Sets\n",
    "These are same as tuple but set can not have duplicate values as name suggest.\n",
    "- A set is a collection which is unordered, unchangeable*, and unindexed.\n",
    "\n",
    "\n",
    "<span style=\"color: #ffffcc padding: 5px\"><b>Note</b> Set items are unchangeable, but you can remove items and add new items.</span>.\n"
   ]
  },
  {
   "cell_type": "code",
   "execution_count": 25,
   "metadata": {},
   "outputs": [
    {
     "name": "stdout",
     "output_type": "stream",
     "text": [
      "List\n",
      "['Alice', 'Bob', 'Alex'] first element Alice\n",
      "['Item 1', 2, 'item 2', 'False changed to this', 2, 'New item added'] last element False changed to this\n",
      "length 3 6\n",
      "<class 'list'>\n",
      "Tuples\n",
      "('item 1', 'item 2', 3, 4, 2) <class 'tuple'> 5\n"
     ]
    }
   ],
   "source": [
    "names = ['Alice', 'Bob', 'Alex']\n",
    "data = ['Item 1', 2, 'item 2', False, 2]\n",
    "\n",
    "data[3] = \"False changed to this\"\n",
    "data.append(\"New item added\")\n",
    "\n",
    "print(\"List\")\n",
    "print(names, \"first element\", names[0])\n",
    "print(data, 'last element', data[3])\n",
    "print(\"length\", len(names), len(data))\n",
    "print(type(names))\n",
    "\n",
    "# Tuples\n",
    "t = (\"item 1\", \"item 2\", 3, 4, 2)\n",
    "\n",
    "print(\"Tuples\")\n",
    "print(t, type(t), len(t))"
   ]
  },
  {
   "cell_type": "code",
   "execution_count": 26,
   "metadata": {},
   "outputs": [
    {
     "ename": "TypeError",
     "evalue": "'tuple' object does not support item assignment",
     "output_type": "error",
     "traceback": [
      "\u001b[1;31m---------------------------------------------------------------------------\u001b[0m",
      "\u001b[1;31mTypeError\u001b[0m                                 Traceback (most recent call last)",
      "\u001b[1;32mg:\\Umer\\Projects\\python\\linear-programming\\notes.ipynb Cell 9'\u001b[0m in \u001b[0;36m<cell line: 1>\u001b[1;34m()\u001b[0m\n\u001b[1;32m----> <a href='vscode-notebook-cell:/g%3A/Umer/Projects/python/linear-programming/notes.ipynb#ch0000014?line=0'>1</a>\u001b[0m t[\u001b[39m2\u001b[39m] \u001b[39m=\u001b[39m \u001b[39m1\u001b[39m\n",
      "\u001b[1;31mTypeError\u001b[0m: 'tuple' object does not support item assignment"
     ]
    }
   ],
   "source": [
    "t[2] = 1"
   ]
  },
  {
   "cell_type": "code",
   "execution_count": 32,
   "metadata": {},
   "outputs": [
    {
     "name": "stdout",
     "output_type": "stream",
     "text": [
      "{1, 2, 3, 4, 5} 5 <class 'set'>\n"
     ]
    }
   ],
   "source": [
    "s = set((1, 2, 3, 4, 5, 4))\n",
    "print(s, len(s), type(s))"
   ]
  },
  {
   "cell_type": "markdown",
   "metadata": {},
   "source": [
    "### Python Dictionaries\n",
    "Dictionaries are used to store data values in key:value pairs, like JSON format."
   ]
  },
  {
   "cell_type": "code",
   "execution_count": 48,
   "metadata": {},
   "outputs": [
    {
     "name": "stdout",
     "output_type": "stream",
     "text": [
      "{'class': 'Operational Research', 'room': 111, 'lab': True, 'test': 'test result'} 4 <class 'dict'> Operational Research\n"
     ]
    }
   ],
   "source": [
    "name = \"test\"\n",
    "value = \"test result\"\n",
    "data = {\n",
    "    \"class\": \"Operational Research\",\n",
    "    \"room\": 111,\n",
    "    \"lab\": True,\n",
    "    name: value\n",
    "}\n",
    "\n",
    "print(data, len(data), type(data), data['class'])"
   ]
  },
  {
   "cell_type": "code",
   "execution_count": 34,
   "metadata": {},
   "outputs": [
    {
     "name": "stdout",
     "output_type": "stream",
     "text": [
      "[{'name': 'Alex', 'username': 'alex012'}, {'name': 'Bob', 'username': 'bob012'}]\n"
     ]
    }
   ],
   "source": [
    "users = [\n",
    "    {\n",
    "        \"name\": \"Alex\",\n",
    "        \"username\": \"alex012\"\n",
    "    },\n",
    "    {\n",
    "        \"name\": \"Bob\",\n",
    "        \"username\": \"bob012\",\n",
    "    }\n",
    "]\n",
    "print(users)"
   ]
  },
  {
   "cell_type": "markdown",
   "metadata": {},
   "source": [
    "### Pytbon If-Else\n",
    "- If else structure are used to condition on values.\n",
    "\n",
    "<b>Note</b> Python do not have `switch-case` statement."
   ]
  },
  {
   "cell_type": "code",
   "execution_count": 35,
   "metadata": {},
   "outputs": [
    {
     "name": "stdout",
     "output_type": "stream",
     "text": [
      "a is greater than b\n"
     ]
    }
   ],
   "source": [
    "a = 200\n",
    "b = 33\n",
    "if b > a:\n",
    "  print(\"b is greater than a\")\n",
    "elif a == b:\n",
    "  print(\"a and b are equal\")\n",
    "else:\n",
    "  print(\"a is greater than b\")\n"
   ]
  },
  {
   "cell_type": "markdown",
   "metadata": {},
   "source": [
    "### Python Loops\n",
    "Python has two primitive loop commands:\n",
    "-  `while loops`\n",
    "- `for loops`\n",
    "\n",
    "- <b>Note</b> Python do not have `do-while` statement.\n",
    "- <b>Note</b> Python do not have increment and decrement operators."
   ]
  },
  {
   "cell_type": "code",
   "execution_count": 37,
   "metadata": {},
   "outputs": [
    {
     "name": "stdout",
     "output_type": "stream",
     "text": [
      "1\t2\t3\t4\t5\t"
     ]
    }
   ],
   "source": [
    "i = 1\n",
    "while i < 6:\n",
    "  print(i, end=\"\\t\")\n",
    "  i += 1\n"
   ]
  },
  {
   "cell_type": "markdown",
   "metadata": {},
   "source": [
    "#### For Loopp\n",
    "A for loop is used for iterating over a `sequence` (that is either a list, a tuple, a dictionary, a set, or a string).\n",
    "\n",
    "This is less like the for keyword in other programming languages, and works more like an `iterator method` as found in other `object-orientated programming languages`."
   ]
  },
  {
   "cell_type": "code",
   "execution_count": 38,
   "metadata": {},
   "outputs": [
    {
     "name": "stdout",
     "output_type": "stream",
     "text": [
      "apple\tbanana\tcherry\t"
     ]
    }
   ],
   "source": [
    "fruits = [\"apple\", \"banana\", \"cherry\"]\n",
    "for x in fruits:\n",
    "  print(x, end=\"\\t\")"
   ]
  },
  {
   "cell_type": "markdown",
   "metadata": {},
   "source": [
    "### Python Functions\n",
    "- A function is a block of code which only runs when it is called.\n",
    "- You can pass data, known as parameters, into a function.\n",
    "- A function can return data as a result.\n",
    "- In Python a function is defined using the `def` keyword"
   ]
  },
  {
   "cell_type": "code",
   "execution_count": 40,
   "metadata": {},
   "outputs": [
    {
     "name": "stdout",
     "output_type": "stream",
     "text": [
      "Hello from a function\n",
      "10\n"
     ]
    }
   ],
   "source": [
    "def my_function():\n",
    "  print(\"Hello from a function\")\n",
    "\n",
    "\n",
    "my_function()\n",
    "\n",
    "def sum(nums):\n",
    "    s = 0\n",
    "    for num in nums:\n",
    "        s += num\n",
    "    return s\n",
    "\n",
    "print(sum([1, 2, 3, 4]))"
   ]
  },
  {
   "cell_type": "markdown",
   "metadata": {},
   "source": [
    "### Python Lambda\n",
    "A lambda function is a small anonymous function.\n",
    "- A lambda function can take any number of arguments, but can only have one expression."
   ]
  },
  {
   "cell_type": "code",
   "execution_count": 43,
   "metadata": {},
   "outputs": [
    {
     "name": "stdout",
     "output_type": "stream",
     "text": [
      "15\n"
     ]
    }
   ],
   "source": [
    "x = lambda a : a + 10\n",
    "print(x(5))"
   ]
  },
  {
   "cell_type": "markdown",
   "metadata": {},
   "source": []
  },
  {
   "cell_type": "code",
   "execution_count": 1,
   "metadata": {},
   "outputs": [
    {
     "name": "stdout",
     "output_type": "stream",
     "text": [
      "Requirement already satisfied: scipy in e:\\anaconda\\lib\\site-packages (1.5.2)\n",
      "Requirement already satisfied: numpy>=1.14.5 in e:\\anaconda\\lib\\site-packages (from scipy) (1.19.2)\n"
     ]
    }
   ],
   "source": [
    "!pip install scipy"
   ]
  },
  {
   "cell_type": "code",
   "execution_count": 32,
   "metadata": {},
   "outputs": [
    {
     "name": "stdout",
     "output_type": "stream",
     "text": [
      "Collecting pulp\n",
      "  Downloading PuLP-2.6.0-py3-none-any.whl (14.2 MB)\n",
      "Installing collected packages: pulp\n",
      "Successfully installed pulp-2.6.0\n"
     ]
    }
   ],
   "source": [
    "!pip install pulp "
   ]
  },
  {
   "cell_type": "code",
   "execution_count": 58,
   "metadata": {},
   "outputs": [],
   "source": [
    "import numpy as np\n",
    "from scipy.optimize import linprog\n",
    "import matplotlib.pyplot as plt\n",
    "import pulp as p\n"
   ]
  },
  {
   "cell_type": "markdown",
   "metadata": {},
   "source": [
    "#### Using pulp"
   ]
  },
  {
   "cell_type": "code",
   "execution_count": 54,
   "metadata": {},
   "outputs": [],
   "source": [
    "# Book Page 84. answer 18520.\n",
    "\n",
    "# Create a LP Minimization problem\n",
    "Lp_prob = p.LpProblem('Problem', p.LpMinimize) \n",
    "  \n",
    "# Create problem Variables \n",
    "x1 = p.LpVariable(\"x1\", lowBound = 0)   # Create a variable x >= 0\n",
    "x2 = p.LpVariable(\"x2\", lowBound = 0)   # Create a variable y >= 0\n",
    "  \n",
    "# Objective Function\n",
    "Lp_prob += -10 * x1 - 8 * x2  \n",
    "  \n",
    "# Constraints:\n",
    "Lp_prob += 3 * x1 + 1 * x2 <= 4500\n",
    "Lp_prob += 2 * x1 + 2 * x2 <= 4000\n",
    "Lp_prob += 1 * x1 + 3 * x2 <= 4500\n",
    "  \n",
    "solution = Lp_prob.solve()   # Solver"
   ]
  },
  {
   "cell_type": "code",
   "execution_count": 55,
   "metadata": {},
   "outputs": [
    {
     "data": {
      "text/plain": [
       "Problem:\n",
       "MINIMIZE\n",
       "-10*x1 + -8*x2 + 0\n",
       "SUBJECT TO\n",
       "_C1: 3 x1 + x2 <= 4500\n",
       "\n",
       "_C2: 2 x1 + 2 x2 <= 4000\n",
       "\n",
       "_C3: x1 + 3 x2 <= 4500\n",
       "\n",
       "VARIABLES\n",
       "x1 Continuous\n",
       "x2 Continuous"
      ]
     },
     "execution_count": 55,
     "metadata": {},
     "output_type": "execute_result"
    }
   ],
   "source": [
    "# Display the problem\n",
    "Lp_prob"
   ]
  },
  {
   "cell_type": "code",
   "execution_count": 57,
   "metadata": {},
   "outputs": [
    {
     "name": "stdout",
     "output_type": "stream",
     "text": [
      "1250.0\n",
      "750.0\n",
      "18500.0\n"
     ]
    }
   ],
   "source": [
    "print(p.value(x1))\n",
    "print(p.value(x2))\n",
    "print(p.value(Lp_prob.objective) * -1)"
   ]
  },
  {
   "cell_type": "markdown",
   "metadata": {},
   "source": [
    "#### Using scipy"
   ]
  },
  {
   "cell_type": "code",
   "execution_count": 19,
   "metadata": {},
   "outputs": [
    {
     "data": {
      "text/plain": [
       "-18499.999772467545"
      ]
     },
     "execution_count": 19,
     "metadata": {},
     "output_type": "execute_result"
    }
   ],
   "source": [
    "# Book page 84\n",
    "obj = np.array([-10, -8])\n",
    "constrains = np.array([\n",
    "    [3, 1],\n",
    "    [2, 2],\n",
    "    [1, 3],\n",
    "    [-1, 0],\n",
    "    [0, -1],\n",
    "])\n",
    "rightSide = np.array([4500, 4000, 4500, 0, 0])\n",
    "\n",
    "res = linprog(obj, A_ub=constrains, b_ub=rightSide)"
   ]
  },
  {
   "cell_type": "code",
   "execution_count": 22,
   "metadata": {},
   "outputs": [
    {
     "data": {
      "text/plain": [
       "18499.999772467545"
      ]
     },
     "execution_count": 22,
     "metadata": {},
     "output_type": "execute_result"
    }
   ],
   "source": [
    "ans = res.fun * -1\n",
    "ans"
   ]
  },
  {
   "cell_type": "markdown",
   "metadata": {},
   "source": [
    "#### From stratch "
   ]
  },
  {
   "cell_type": "code",
   "execution_count": null,
   "metadata": {},
   "outputs": [],
   "source": [
    "from enum import Enum\n",
    "import numpy as np\n",
    "\n",
    "\n",
    "class Constrains(Enum):\n",
    "    LESS_THAN = 1\n",
    "    GRAEATER_THAN = 2\n",
    "    EQUAL = 3\n",
    "\n",
    "\n",
    "class Type(Enum):\n",
    "    MAX = 1\n",
    "    MIN = 2\n",
    "\n",
    "\n",
    "class SimplexMethod:\n",
    "    def __init__(self, noOfVars, noOFConstrains):\n",
    "        self.noOfVars = noOfVars\n",
    "        self.noOFConstrains = noOFConstrains\n",
    "        self.addedConstrains = 1\n",
    "        self.matrix = np.zeros(\n",
    "            (noOFConstrains + 1, noOFConstrains + noOfVars + 1))\n",
    "\n",
    "    def convert(self, eq, constrain_type):\n",
    "        if constrain_type == Constrains.GRAEATER_THAN:\n",
    "            eq = [eq * -1 for eq in eq]\n",
    "            return eq\n",
    "        elif constrain_type == Constrains.EQUAL:\n",
    "            return eq\n",
    "        elif constrain_type == Constrains.LESS_THAN:\n",
    "            eq = [eq * 1 for eq in eq]\n",
    "            return eq\n",
    "\n",
    "    def _add(self, eq, position, eqType=\"obj\"):\n",
    "        # get position row of matrix\n",
    "        table = self.matrix[position, :]\n",
    "        if eqType == \"obj\":\n",
    "            eq = [round(float(i), 2) for i in eq.split(',')]\n",
    "        if len(eq) < self.noOfVars:\n",
    "            raise Exception(\"Invalid number of variables\")\n",
    "\n",
    "        for i in range(0, self.noOfVars):\n",
    "            if eqType == \"obj\":\n",
    "                table[i] = eq[i] * -1\n",
    "            else:\n",
    "                table[i] = eq[i]\n",
    "        # right side value.\n",
    "        table[-1] = eq[-1]\n",
    "        self.matrix[position, :] = table\n",
    "\n",
    "    def add_obj(self, eq):\n",
    "        self._add(eq, 0)\n",
    "\n",
    "    def add_constrains(self, eq, constrain_type):\n",
    "        eq = [round(float(i), 2) for i in eq.split(',')]\n",
    "        eq = self.convert(eq, constrain_type)\n",
    "        self._add(eq, self.addedConstrains, 'constrain')\n",
    "        self.addedConstrains += 1\n",
    "\n",
    "    def check_negative_topmost_row(self):\n",
    "        # get the first row of matrix\n",
    "        table = self.matrix[0, :]\n",
    "        m = min(table)\n",
    "        if m < 0:\n",
    "            return True\n",
    "        return False\n",
    "\n",
    "    def find_negative_index(self):\n",
    "        neg_index = np.where(self.matrix == min(self.matrix[0, :]))\n",
    "        return {\n",
    "            \"col\": neg_index[1][0],\n",
    "            \"row\": neg_index[0][0]\n",
    "        } if len(neg_index[1]) > 0 and len(neg_index[0]) > 0 else None\n",
    "\n",
    "    def locate_pivot(self):\n",
    "        total = np.array([])\n",
    "        r = self.find_negative_index()\n",
    "        c = r['col']\n",
    "        r = r['row']\n",
    "        row = self.matrix[r, :]\n",
    "        col = self.matrix[:, c]\n",
    "        lastCol = self.matrix[:, -1]\n",
    "        m = min(row)\n",
    "        for left, right in zip(col, lastCol):\n",
    "            if left > 0 and right / left > 0:\n",
    "                total = np.append(total, right / left)\n",
    "            else:\n",
    "                total = np.append(total, 0.0)\n",
    "        # find min value by excluding zero.\n",
    "        index = np.where(total == min(total[total > 0]))[0][0]\n",
    "        return [index, c]\n",
    "\n",
    "    def pivot(self, row, col):\n",
    "        lc = len(self.matrix[0, :])\n",
    "        lr = len(self.matrix[:, 0])\n",
    "        table = np.zeros((lr, lc))\n",
    "        pivot = self.matrix[row, col]\n",
    "        pivot_row = self.matrix[row, :]\n",
    "        if pivot > 0:\n",
    "            r = pivot_row / pivot\n",
    "            for i in range(len(self.matrix[:, col])):\n",
    "                k = self.matrix[i, :]\n",
    "                c = self.matrix[i, col]\n",
    "                if list(k) != list(pivot_row):\n",
    "                    # subtract pivot row from each row and multiply by pivot value\n",
    "                    table[i, :] = list(k - r * c)\n",
    "            table[row, :] = r\n",
    "            self.matrix = table\n",
    "\n",
    "    def generate_vars(self):\n",
    "        v = []\n",
    "        for i in range(self.noOfVars):\n",
    "            v.append('x' + str(i+1))\n",
    "        return v\n",
    "\n",
    "    def solve(self):\n",
    "        while self.check_negative_topmost_row() == True:\n",
    "            self.pivot(self.locate_pivot()[0], self.locate_pivot()[1])\n",
    "            # print(self.matrix)\n",
    "\n",
    "        i = 0\n",
    "        var = {}\n",
    "        for i in range(self.noOfVars):\n",
    "            col = self.matrix[:, i]\n",
    "            s = sum(col)\n",
    "            m = max(col)\n",
    "\n",
    "            if float(s) == float(m):\n",
    "                location = np.where(col == m)[0][0]\n",
    "                var[self.generate_vars()[i]] = self.matrix[location, -1]\n",
    "            else:\n",
    "                var[self.generate_vars()[i]] = 0\n",
    "        var['max'] = self.matrix[0, -1]\n",
    "        print(self.matrix)\n",
    "        return var\n",
    "\n",
    "    def maximize(self):\n",
    "        return self.solve()\n",
    "\n",
    "    def minimize(self):\n",
    "        # multiply first row by -1\n",
    "        self.matrix[0, :] = self.matrix[0, :] * -1\n",
    "        return self.solve()"
   ]
  }
 ],
 "metadata": {
  "kernelspec": {
   "display_name": "Python 3",
   "language": "python",
   "name": "python3"
  },
  "language_info": {
   "codemirror_mode": {
    "name": "ipython",
    "version": 3
   },
   "file_extension": ".py",
   "mimetype": "text/x-python",
   "name": "python",
   "nbconvert_exporter": "python",
   "pygments_lexer": "ipython3",
   "version": "3.8.5"
  },
  "vscode": {
   "interpreter": {
    "hash": "4df2cc69eb3fd56a8a9780b07025dcfa15673fb6f5e64f079d5772d6ef5f08ae"
   }
  }
 },
 "nbformat": 4,
 "nbformat_minor": 2
}
